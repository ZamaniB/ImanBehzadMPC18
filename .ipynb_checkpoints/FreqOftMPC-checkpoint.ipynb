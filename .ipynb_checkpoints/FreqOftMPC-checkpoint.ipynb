{
 "cells": [
  {
   "cell_type": "code",
   "execution_count": 2,
   "metadata": {},
   "outputs": [],
   "source": [
    "import sys\n",
    "import os\n",
    "\n",
    "import numpy as np\n",
    "import scipy as sp\n",
    "import scipy.signal as sig\n",
    "\n",
    "import matplotlib as mpl\n",
    "import matplotlib.pyplot as plt\n",
    "import matplotlib.cm as cm\n",
    "\n",
    "import cvxopt\n",
    "import picos as pic\n",
    "\n"
   ]
  },
  {
   "cell_type": "markdown",
   "metadata": {},
   "source": [
    "# Simple Switched MPC Example\n",
    "\n",
    "First we consider a simple example where an agent is controlled to visit some state cost infinitly often while the usual LQR cost is also minimised.\n",
    "\n",
    "Consider  a target $d\\in\\mathbb{R}^2$, agent  $i$ is considered as a single integrator\n",
    "\\begin{equation}\\label{eq:dyn}\n",
    "x_i(t+1) = x_i(t) + u_i(t) + w_i(t),\\; x_i(0) = x_{i,0},\n",
    "\\end{equation}\n",
    "where $x_i(k)\\in\\mathbb{R}^2$ is the state or the current coordinates of agent $i$ in a fixed global coordinate frame, $u_i\\in\\mathbb{R}^2$ is the control input or the velocity of agent $i$ and $w_i\\in\\mathbb{R}^2$ is a disturbance signal. \n",
    "\n",
    "The problem is to solve the following optimisation problem in a receeding horizon fashion. \n",
    "\\begin{equation}\n",
    "\\begin{split}\n",
    "& \\min_{x_i,u_i} \\sum_{k=0}^{N-1} \\big( \\Vert x_i(k)\\Vert^2_{Q_i} + m_i(t)\\Vert x_i(k)-d_i\\Vert^2 + \\Vert u_i(k)\\Vert^2_{R_i} \\big) + \\Vert x_i(N)\\Vert^ 2_{P_i} \\\\\n",
    "& \\mbox{ subject to:}\\\\\n",
    "& x_i(k+1) = x_i(k) + u_i(k)\\\\\n",
    "& x_i \\in \\mathcal{X}_i, u_i \\in \\mathcal{U}_i\\\\\\\n",
    "& x_i(0) = x_i(t)\n",
    "\\end{split}\n",
    "\\end{equation}\n",
    "\n",
    "The time-varying part of the cost above is provided via\n",
    "\\begin{equation}\n",
    "m_i(t) = \\left\\{\\begin{array}{ll}g(t)  & \\Vert x_i(t)-d_i\\Vert^2>\\epsilon \\\\\n",
    "                                    0     & \\mbox{otherwise}\n",
    "                                    \\end{array}\\right.\n",
    "\\end{equation}\n",
    "\n",
    "\n",
    "## numberical example\n",
    "\n",
    "Consider the case where $N=10$ and $T=100$ where the latter is the total simulation time. Also consider,  $d = [5,5],\\;\\epsilon = .1$, $\\mathcal{X_i}= [-10 10]\\times[-10 10]$, $\\mathcal{U_i}= [-3 3]\\times[-3 3]$, $g(t) = t$, $Q_i=P_i=R_i=I_2$.\n",
    "\n",
    "\n"
   ]
  },
  {
   "cell_type": "code",
   "execution_count": 11,
   "metadata": {},
   "outputs": [
    {
     "ename": "SyntaxError",
     "evalue": "invalid syntax (<ipython-input-11-e52909b04c99>, line 33)",
     "output_type": "error",
     "traceback": [
      "\u001b[0;36m  File \u001b[0;32m\"<ipython-input-11-e52909b04c99>\"\u001b[0;36m, line \u001b[0;32m33\u001b[0m\n\u001b[0;31m    prob.set_objective('max', ObjFunc )\u001b[0m\n\u001b[0m       ^\u001b[0m\n\u001b[0;31mSyntaxError\u001b[0m\u001b[0;31m:\u001b[0m invalid syntax\n"
     ]
    }
   ],
   "source": [
    "#create a Problem instance (note that picos was imported at the top of this notebook)\n",
    "prob = pic.Problem()    \n",
    "\n",
    "T = 10 # seconds, the time horizon of optimisation \n",
    "dt = 1 #seconds, the time step of optimisation \n",
    "\n",
    "#size of the storage for all the values of different signals\n",
    "ssize = int(T/dt) \n",
    "\n",
    "# x_i is added as a vector of variables to the problem \n",
    "x_pred = prob.add_variable('x_predict', ssize,lower=-10, upper=10)\n",
    "\n",
    "# u_i is added as a vector of variables to the problem \n",
    "u_plan = prob.add_variable('x_plan', ssize,lower=-3, upper=3)\n",
    "\n",
    "# adding the state space constraints  \n",
    "for i in range (ssize-1):\n",
    "    prob.add_constraint( x_pred[i+1] == x_pred[i] + u_plan[i])\n",
    "    \n",
    "#adding the initial conditions\n",
    "prob.add_list_of_constraints([x_pred[0] == [0,0], u_plan[0] == [0,0]],'initial conditions')\n",
    "\n",
    "# the time-varying part of cost\n",
    "m = 2\n",
    "\n",
    "# objective function\n",
    "ObjFunc = (- (u_plan)|(u_plan)\n",
    "            - (x_pred[:]-[3,3])|(x_pred[:]-[3,3]) \n",
    "            - (x_pred[-1]-[3,3])|(x_pred[-1]-[3,3])\n",
    "            - m * ((x_pred[:]-[5,5])|(x_pred[:]-[5,5]))\n",
    "\n",
    "\n",
    "prob.set_objective('max', ObjFunc )\n",
    "#print(prob)\n",
    "\n",
    "\n"
   ]
  },
  {
   "cell_type": "markdown",
   "metadata": {},
   "source": [
    "# Data Ferrying Example\n",
    "\n"
   ]
  },
  {
   "cell_type": "markdown",
   "metadata": {
    "collapsed": true
   },
   "source": [
    "In the following example we consider the problem of path planning for $N$ agents that act as data ferries for delivering big data packages between communication hubs. Agents are designed to transverse between the communication hubs, where data packages are picked up at or delivered to, by minimising their collective consumed energy cost while satisfying some safety and liveliness conditions. We will formalise this problem in the following. \n",
    "Consider $M$ communication hubs located at destinations $d_j\\in\\mathbb{R}^2$, where $j\\in\\{1,2,\\cdots,M\\}$.  \n",
    "Each agent $i\\in\\{1,2,\\cdots,N\\}$ is considered as a single integrator \n",
    "\\begin{equation}\\label{eq:dyn}\n",
    "\\dot{x}_i = u_i,\\; x_i(0) = x_{i,0},\n",
    "\\end{equation}\n",
    "where $x_i\\in\\mathbb{R}^2$ is the state or the current coordinates of agent $i$ in a fixed global coordinate frame, $u_i\\in\\mathbb{R}^2$ is the control input or the velocity of agent $i$. \n",
    "\n",
    "\n",
    "\n",
    "\n"
   ]
  },
  {
   "cell_type": "markdown",
   "metadata": {},
   "source": [
    "## Optimization Problem"
   ]
  },
  {
   "cell_type": "markdown",
   "metadata": {},
   "source": [
    "The formal optimisation problem considered is as follows. Recall the agent dynamics mentioned in the above and assume that for all $i,\\;j$ we have that the agents and the communication hubs are within a subset of the open space characterized by $x_{i,0}\\in B(0,R)$ and $d_j\\in B(0,R)$ where $B(0,R)$ is a circle with radius $R$ centered at the origin. Given a time budget of $T$ seconds for the optimization problem, we seek a design for the control inputs $u_i\\vert_{[0,T]}$ such that the following global cost is minimized.\n",
    "### Objective\n",
    "$J_1(0,T,x,u) =  \\int_0^T (\\Vert u(t)\\Vert^2 + \\Vert x(t)\\Vert^2)\\,dt $\n",
    "where $x,u$ are vectors given by stacking up $x_i$ and $u_i$, respectively. \n"
   ]
  },
  {
   "cell_type": "markdown",
   "metadata": {},
   "source": [
    "This optimization is also subject to the following safety and liveliness constraints. \n",
    "\n",
    "### Safety\n",
    "At all times $t$ and for each agent $i$ we restrict the speed $\\Vert u_i(t)\\Vert < u_{max}$ and the agents are confined to stay within the ball $B(0,R)$, i.e. $ x_i(t)\\in B(0,R)$.\n",
    "### Liveliness \n",
    "We require that each communication hub $d_i$ to be visited frequently, i.e. $|C_j|\\rightarrow \\infty $ as $T\\rightarrow \\infty$ where $C_j = \\{t\\;|\\;\\exists i,\\;\\Vert d_j - x_i(t)\\Vert <\\epsilon\\}$ and $\\epsilon$ is an arbitrary small positive number.\n"
   ]
  },
  {
   "cell_type": "markdown",
   "metadata": {},
   "source": [
    "## Proposed Approach to Liveness Properties\n",
    "Liveness properties are desirable due to their added expressiveness for capturing a wide range of control requirements. The downside with liveness properties of the aforementioned form is the complexity of their mathematical expression that is often not readily compatible with the standard optimization solvers.  In this work we propose a new approach in capturing the liveness constraints in a form that is compatible with the numerical optimization packages.\n",
    "\n",
    "Another way of accounting for the liveliness constraint of the data ferry example is via altering the objective function as is shown next.\n",
    "Consider the alternative cost\n",
    "\n",
    "\\begin{equation}\n",
    "J_2(0,T,x,u) =  \\int_0^T (\\Vert u(t)\\Vert^2 + \\Vert x(t)\\Vert^2 + \\phi_j (t) \\sum_j\\Vert e_j(t)\\Vert ^2)dt \n",
    "\\end{equation}\n",
    "\n",
    "\n",
    "where $e_j$ denotes the vector obtained by stacking up $x_i(t)-d_j$ and $\\phi_j$ is an external function of the form\n",
    "\n",
    "\\begin{equation}\n",
    "\\phi_j(t) \\triangleq \\left\\{\\begin{array}{ll}\n",
    "                                             0& \\exists i,\\,\\Vert d_j - x_i(t)\\Vert <\\epsilon\\\\\n",
    "                                             m_j(t)e^{\\gamma_j(t) t} & \\mbox{else}\n",
    "                                           \\end{array}\\right.                                            \n",
    "\\end{equation}\n",
    "where $m_j(t)$ and $\\gamma_j(t)$ are tuning parameters that determine the size and the mounting up speed of the cost of location $j$ not being visited by any agent $i$. These values are chosen based on the time varying cardinality number $\\vert C_j\\vert$, e.g. one can chose $m_j(t) \\triangleq 1/ (\\vert C_j\\vert+1)$ and $\\gamma_j(t)$ as a arbitrary positive constant.   \n",
    "\n"
   ]
  },
  {
   "cell_type": "markdown",
   "metadata": {
    "collapsed": true
   },
   "source": [
    "hey \n"
   ]
  },
  {
   "cell_type": "code",
   "execution_count": null,
   "metadata": {},
   "outputs": [],
   "source": []
  }
 ],
 "metadata": {
  "kernelspec": {
   "display_name": "Python 2",
   "language": "python",
   "name": "python2"
  },
  "language_info": {
   "codemirror_mode": {
    "name": "ipython",
    "version": 2
   },
   "file_extension": ".py",
   "mimetype": "text/x-python",
   "name": "python",
   "nbconvert_exporter": "python",
   "pygments_lexer": "ipython2",
   "version": "2.7.14"
  }
 },
 "nbformat": 4,
 "nbformat_minor": 2
}
