{
 "cells": [
  {
   "cell_type": "code",
   "execution_count": 11,
   "metadata": {
    "collapsed": true
   },
   "outputs": [],
   "source": [
    "import sys\n",
    "import os\n",
    "\n",
    "import numpy as np\n",
    "import scipy as sp\n",
    "import scipy.signal as sig\n",
    "\n",
    "import matplotlib as mpl\n",
    "import matplotlib.pyplot as plt\n",
    "import matplotlib.cm as cm\n",
    "\n",
    "import cvxopt\n",
    "import picos\n",
    "\n"
   ]
  },
  {
   "cell_type": "markdown",
   "metadata": {},
   "source": [
    "# Data Ferrying Example\n",
    "\n"
   ]
  },
  {
   "cell_type": "markdown",
   "metadata": {
    "collapsed": true
   },
   "source": [
    "In the following example we consider the problem of path planning for $N$ agents that act as data ferries for delivering big data packages between communication hubs. Agents are designed to transverse between the communication hubs, where data packages are picked up at or delivered to, by minimising their collective consumed energy cost while satisfying some safety and liveliness conditions. We will formalise this problem in the following. \n",
    "Consider $M$ communication hubs located at destinations $d_j\\in\\mathbb{R}^2$, where $j\\in\\{1,2,\\cdots,M\\}$.  \n",
    "Each agent $i\\in\\{1,2,\\cdots,N\\}$ is considered as a single integrator \n",
    "\\begin{equation}\\label{eq:dyn}\n",
    "\\dot{x}_i = u_i,\\; x_i(0) = x_{i,0},\n",
    "\\end{equation}\n",
    "where $x_i\\in\\mathbb{R}^2$ is the state or the current coordinates of agent $i$ in a fixed global coordinate frame, $u_i\\in\\mathbb{R}^2$ is the control input or the velocity of agent $i$. \n",
    "\n",
    "\n",
    "\n",
    "\n",
    "\n"
   ]
  },
  {
   "cell_type": "markdown",
   "metadata": {},
   "source": [
    "## Optimization Problem"
   ]
  },
  {
   "cell_type": "markdown",
   "metadata": {},
   "source": [
    "The formal optimisation problem considered is as follows. Recall the agent dynamics mentioned in the above and assume that for all $i,\\;j$ we have that the agents and the communication hubs are within a subset of the open space characterized by $x_{i,0}\\in B(0,R)$ and $d_j\\in B(0,R)$ where $B(0,R)$ is a circle with radius $R$ centered at the origin. Given a time budget of $T$ seconds for the optimization problem, we seek a design for the control inputs $u_i\\vert_{[0,T]}$ such that the following global cost is minimized.\n",
    "### Objective\n",
    "$J_1(0,T,x,u) =  \\int_0^T (\\Vert u(t)\\Vert^2 + \\Vert x(t)\\Vert^2)\\,dt $\n",
    "where $x,u$ are vectors given by stacking up $x_i$ and $u_i$, respectively. \n"
   ]
  },
  {
   "cell_type": "markdown",
   "metadata": {},
   "source": [
    "This optimization is also subject to the following safety and liveliness constraints. \n",
    "\n",
    "### Safety\n",
    "At all times $t$ and for each agent $i$ we restrict the speed $\\Vert u_i(t)\\Vert < u_{max}$ and the agents are confined to stay within the ball $B(0,R)$, i.e. $ x_i(t)\\in B(0,R)$.\n",
    "### Liveliness \n",
    "We require that each communication hub $d_i$ to be visited frequently, i.e. $|C_j|\\rightarrow \\infty $ as $T\\rightarrow \\infty$ where $C_j = \\{t\\;|\\;\\exists i,\\;\\Vert d_j - x_i(t)\\Vert <\\epsilon\\}$ and $\\epsilon$ is an arbitrary small positive number.\n"
   ]
  },
  {
   "cell_type": "markdown",
   "metadata": {},
   "source": [
    "## Proposed Approach to Liveness Properties\n",
    "Liveness properties are desirable due to their added expressiveness for capturing a wide range of control requirements. The downside with liveness properties of the aforementioned form is the complexity of their mathematical expression that is often not readily compatible with the standard optimization solvers.  In this work we propose a new approach in capturing the liveness constraints in a form that is compatible with the numerical optimization packages.\n",
    "\n",
    "Another way of accounting for the liveliness constraint of the data ferry example is via altering the objective function as is shown next.\n",
    "Consider the alternative cost\n",
    "\n",
    "\\begin{equation}\n",
    "J_2(0,T,x,u) =  \\int_0^T (\\Vert u(t)\\Vert^2 + \\Vert x(t)\\Vert^2 + \\phi_j (t) \\sum_j\\Vert e_j(t)\\Vert ^2)dt \n",
    "\\end{equation}\n",
    "\n",
    "\n",
    "where $e_j$ denotes the vector obtained by stacking up $x_i(t)-d_j$ and $\\phi_j$ is an external function of the form\n",
    "\n",
    "\\begin{equation}\n",
    "\\phi_j(t) \\triangleq \\left\\{\\begin{array}{ll}\n",
    "                                             0& \\exists i,\\,\\Vert d_j - x_i(t)\\Vert <\\epsilon\\\\\n",
    "                                             m_j(t)e^{\\gamma_j(t) t} & \\mbox{else}\n",
    "                                           \\end{array}\\right.                                            \n",
    "\\end{equation}\n",
    "where $m_j(t)$ and $\\gamma_j(t)$ are tuning parameters that determine the size and the mounting up speed of the cost of location $j$ not being visited by any agent $i$. These values are chosen based on the time varying cardinality number $\\vert C_j\\vert$, e.g. one can chose $m_j(t) \\triangleq 1/ (\\vert C_j\\vert+1)$ and $\\gamma_j(t)$ as a arbitrary positive constant.   \n",
    "\n"
   ]
  },
  {
   "cell_type": "markdown",
   "metadata": {
    "collapsed": true
   },
   "source": [
    "hey \n"
   ]
  },
  {
   "cell_type": "code",
   "execution_count": null,
   "metadata": {},
   "outputs": [],
   "source": []
  }
 ],
 "metadata": {
  "kernelspec": {
   "display_name": "Python 2",
   "language": "python",
   "name": "python2"
  },
  "language_info": {
   "codemirror_mode": {
    "name": "ipython",
    "version": 2
   },
   "file_extension": ".py",
   "mimetype": "text/x-python",
   "name": "python",
   "nbconvert_exporter": "python",
   "pygments_lexer": "ipython2",
   "version": "2.7.14"
  }
 },
 "nbformat": 4,
 "nbformat_minor": 2
}
